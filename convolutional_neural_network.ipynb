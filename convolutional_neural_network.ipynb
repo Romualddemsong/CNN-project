{
  "nbformat": 4,
  "nbformat_minor": 0,
  "metadata": {
    "colab": {
      "name": "convolutional neural network",
      "provenance": []
    },
    "kernelspec": {
      "name": "python3",
      "display_name": "Python 3"
    },
    "language_info": {
      "name": "python"
    }
  },
  "cells": [
    {
      "cell_type": "code",
      "execution_count": 2,
      "metadata": {
        "id": "J9z6FNCck1kJ"
      },
      "outputs": [],
      "source": [
        "import tensorflow as tf\n",
        "from keras.preprocessing.image import ImageDataGenerator"
      ]
    },
    {
      "cell_type": "code",
      "source": [
        "tf.__version__"
      ],
      "metadata": {
        "colab": {
          "base_uri": "https://localhost:8080/",
          "height": 35
        },
        "id": "Lip06qpNA_wy",
        "outputId": "36ad935f-87b3-44de-e9c8-50d75957b60c"
      },
      "execution_count": 3,
      "outputs": [
        {
          "output_type": "execute_result",
          "data": {
            "text/plain": [
              "'2.8.2'"
            ],
            "application/vnd.google.colaboratory.intrinsic+json": {
              "type": "string"
            }
          },
          "metadata": {},
          "execution_count": 3
        }
      ]
    },
    {
      "cell_type": "code",
      "source": [
        "import tensorflow as tf\n",
        "tf.test.gpu_device_name()"
      ],
      "metadata": {
        "colab": {
          "base_uri": "https://localhost:8080/",
          "height": 35
        },
        "id": "vhcqqtBiBO34",
        "outputId": "91202f93-c053-4834-e8b5-08acca0c882b"
      },
      "execution_count": 4,
      "outputs": [
        {
          "output_type": "execute_result",
          "data": {
            "text/plain": [
              "''"
            ],
            "application/vnd.google.colaboratory.intrinsic+json": {
              "type": "string"
            }
          },
          "metadata": {},
          "execution_count": 4
        }
      ]
    },
    {
      "cell_type": "code",
      "source": [
        "from google.colab import drive\n"
      ],
      "metadata": {
        "id": "4e-SE2-SBe-G"
      },
      "execution_count": 5,
      "outputs": []
    },
    {
      "cell_type": "code",
      "source": [
        "train_detagen=ImageDataGenerator(rescale=1./255,\n",
        "                                 shear_range=0.2,\n",
        "                                 zoom_range=0.2,\n",
        "                                 horizontal_flip=True)\n",
        "training_set=train_detagen.flow_from_directory('/content/drive/MyDrive/Image_Classification/training_set',\n",
        "                                               target_size=(64, 64),\n",
        "                                               batch_size= 32,\n",
        "                                               class_mode='binary')\n"
      ],
      "metadata": {
        "colab": {
          "base_uri": "https://localhost:8080/"
        },
        "id": "8PblUaVTMYq8",
        "outputId": "88e1517e-eee6-41f6-e266-fe469fadf6d3"
      },
      "execution_count": 6,
      "outputs": [
        {
          "output_type": "stream",
          "name": "stdout",
          "text": [
            "Found 4000 images belonging to 2 classes.\n"
          ]
        }
      ]
    },
    {
      "cell_type": "code",
      "source": [
        "test_detagen=ImageDataGenerator(rescale=1./255)\n",
        "test_set=test_detagen.flow_from_directory('/content/drive/MyDrive/Image_Classification/test_set',\n",
        "                                          target_size= (64, 64),\n",
        "                                          batch_size=32,\n",
        "                                          class_mode='binary')"
      ],
      "metadata": {
        "colab": {
          "base_uri": "https://localhost:8080/"
        },
        "id": "LXPnsotGN0TB",
        "outputId": "d65b7ae4-2e64-4575-f8a4-33fb17d38390"
      },
      "execution_count": 7,
      "outputs": [
        {
          "output_type": "stream",
          "name": "stdout",
          "text": [
            "Found 1000 images belonging to 2 classes.\n"
          ]
        }
      ]
    },
    {
      "cell_type": "code",
      "source": [
        "#convolution\n",
        "cnn=tf.keras.models.Sequential()"
      ],
      "metadata": {
        "id": "pUmBeCKQPaQY"
      },
      "execution_count": 8,
      "outputs": []
    },
    {
      "cell_type": "code",
      "source": [
        "#pooling\n",
        "cnn.add(tf.keras.layers.MaxPool2D(pool_size=2,strides=2))"
      ],
      "metadata": {
        "id": "mG0vguWxPioS"
      },
      "execution_count": 9,
      "outputs": []
    },
    {
      "cell_type": "code",
      "source": [
        "#Adding a second convolutional layer\n",
        "cnn.add(tf.keras.layers.Conv2D(filters=32, kernel_size=3, activation='relu'))\n",
        "cnn.add(tf.keras.layers.MaxPool2D(pool_size=2, strides=2))"
      ],
      "metadata": {
        "id": "qSdtNzTXP42t"
      },
      "execution_count": 10,
      "outputs": []
    },
    {
      "cell_type": "code",
      "source": [
        "#Flattening\n",
        "cnn.add(tf.keras.layers.Flatten())"
      ],
      "metadata": {
        "id": "Y38bgE9LRJLs"
      },
      "execution_count": 11,
      "outputs": []
    },
    {
      "cell_type": "code",
      "source": [
        "#Full Connection\n",
        "cnn.add(tf.keras.layers.Dense(units=128, activation='relu'))"
      ],
      "metadata": {
        "id": "jqUQQ1eYRSNk"
      },
      "execution_count": 12,
      "outputs": []
    },
    {
      "cell_type": "code",
      "source": [
        "cnn.add(tf.keras.layers.Dense(units=1, activation='sigmoid'))"
      ],
      "metadata": {
        "id": "WccpdP6vRhPi"
      },
      "execution_count": 13,
      "outputs": []
    },
    {
      "cell_type": "code",
      "source": [
        "#Model summary\n",
        "cnn.summary()\n"
      ],
      "metadata": {
        "colab": {
          "base_uri": "https://localhost:8080/"
        },
        "id": "JAxiMn7GR5mv",
        "outputId": "e78a5052-0afb-4d7c-b3d7-47ce5bf57532"
      },
      "execution_count": 19,
      "outputs": [
        {
          "output_type": "stream",
          "name": "stdout",
          "text": [
            "Model: \"sequential\"\n",
            "_________________________________________________________________\n",
            " Layer (type)                Output Shape              Param #   \n",
            "=================================================================\n",
            " max_pooling2d (MaxPooling2D  (None, None, None, None)  0        \n",
            " )                                                               \n",
            "                                                                 \n",
            " conv2d (Conv2D)             (None, None, None, 32)    896       \n",
            "                                                                 \n",
            " max_pooling2d_1 (MaxPooling  (None, None, None, 32)   0         \n",
            " 2D)                                                             \n",
            "                                                                 \n",
            " flatten (Flatten)           (None, None)              0         \n",
            "                                                                 \n",
            " dense (Dense)               (None, 128)               921728    \n",
            "                                                                 \n",
            " dense_1 (Dense)             (None, 1)                 129       \n",
            "                                                                 \n",
            "=================================================================\n",
            "Total params: 922,753\n",
            "Trainable params: 922,753\n",
            "Non-trainable params: 0\n",
            "_________________________________________________________________\n"
          ]
        }
      ]
    },
    {
      "cell_type": "code",
      "source": [
        "#compiling the CNN\n",
        "cnn.compile(optimizer = 'adam', loss='binary_crossentropy', metrics=['accuracy'])"
      ],
      "metadata": {
        "id": "1Rf4IHgwYzDg"
      },
      "execution_count": 14,
      "outputs": []
    },
    {
      "cell_type": "code",
      "source": [
        "#Training the cnn on training set and evaluating it on test set\n",
        "cnn.fit(x=training_set, validation_data=test_set,epochs=25)"
      ],
      "metadata": {
        "colab": {
          "base_uri": "https://localhost:8080/"
        },
        "id": "ZPjczIrSZhHg",
        "outputId": "9a6a600c-0a6d-464c-aa0b-7e5359d68cad"
      },
      "execution_count": 15,
      "outputs": [
        {
          "output_type": "stream",
          "name": "stdout",
          "text": [
            "Epoch 1/25\n",
            "125/125 [==============================] - 536s 4s/step - loss: 0.6982 - accuracy: 0.5548 - val_loss: 0.6359 - val_accuracy: 0.6540\n",
            "Epoch 2/25\n",
            "125/125 [==============================] - 30s 240ms/step - loss: 0.6282 - accuracy: 0.6395 - val_loss: 0.5868 - val_accuracy: 0.7040\n",
            "Epoch 3/25\n",
            "125/125 [==============================] - 30s 241ms/step - loss: 0.6010 - accuracy: 0.6722 - val_loss: 0.5743 - val_accuracy: 0.7200\n",
            "Epoch 4/25\n",
            "125/125 [==============================] - 30s 241ms/step - loss: 0.5878 - accuracy: 0.6820 - val_loss: 0.5651 - val_accuracy: 0.7240\n",
            "Epoch 5/25\n",
            "125/125 [==============================] - 31s 245ms/step - loss: 0.5730 - accuracy: 0.7070 - val_loss: 0.5476 - val_accuracy: 0.7310\n",
            "Epoch 6/25\n",
            "125/125 [==============================] - 30s 241ms/step - loss: 0.5721 - accuracy: 0.7017 - val_loss: 0.5585 - val_accuracy: 0.7360\n",
            "Epoch 7/25\n",
            "125/125 [==============================] - 30s 238ms/step - loss: 0.5493 - accuracy: 0.7200 - val_loss: 0.5529 - val_accuracy: 0.7350\n",
            "Epoch 8/25\n",
            "125/125 [==============================] - 30s 237ms/step - loss: 0.5439 - accuracy: 0.7225 - val_loss: 0.5532 - val_accuracy: 0.7260\n",
            "Epoch 9/25\n",
            "125/125 [==============================] - 32s 254ms/step - loss: 0.5305 - accuracy: 0.7370 - val_loss: 0.5276 - val_accuracy: 0.7480\n",
            "Epoch 10/25\n",
            "125/125 [==============================] - 30s 238ms/step - loss: 0.5295 - accuracy: 0.7335 - val_loss: 0.5193 - val_accuracy: 0.7460\n",
            "Epoch 11/25\n",
            "125/125 [==============================] - 30s 237ms/step - loss: 0.5108 - accuracy: 0.7480 - val_loss: 0.5455 - val_accuracy: 0.7340\n",
            "Epoch 12/25\n",
            "125/125 [==============================] - 30s 236ms/step - loss: 0.5119 - accuracy: 0.7455 - val_loss: 0.5128 - val_accuracy: 0.7650\n",
            "Epoch 13/25\n",
            "125/125 [==============================] - 30s 237ms/step - loss: 0.5113 - accuracy: 0.7412 - val_loss: 0.5119 - val_accuracy: 0.7600\n",
            "Epoch 14/25\n",
            "125/125 [==============================] - 30s 238ms/step - loss: 0.4979 - accuracy: 0.7610 - val_loss: 0.5312 - val_accuracy: 0.7340\n",
            "Epoch 15/25\n",
            "125/125 [==============================] - 29s 234ms/step - loss: 0.4816 - accuracy: 0.7710 - val_loss: 0.5060 - val_accuracy: 0.7550\n",
            "Epoch 16/25\n",
            "125/125 [==============================] - 31s 245ms/step - loss: 0.4827 - accuracy: 0.7663 - val_loss: 0.5054 - val_accuracy: 0.7640\n",
            "Epoch 17/25\n",
            "125/125 [==============================] - 30s 239ms/step - loss: 0.5021 - accuracy: 0.7458 - val_loss: 0.5247 - val_accuracy: 0.7440\n",
            "Epoch 18/25\n",
            "125/125 [==============================] - 29s 236ms/step - loss: 0.4687 - accuracy: 0.7730 - val_loss: 0.5959 - val_accuracy: 0.6860\n",
            "Epoch 19/25\n",
            "125/125 [==============================] - 30s 240ms/step - loss: 0.4688 - accuracy: 0.7730 - val_loss: 0.5101 - val_accuracy: 0.7540\n",
            "Epoch 20/25\n",
            "125/125 [==============================] - 30s 238ms/step - loss: 0.4587 - accuracy: 0.7812 - val_loss: 0.5169 - val_accuracy: 0.7530\n",
            "Epoch 21/25\n",
            "125/125 [==============================] - 30s 237ms/step - loss: 0.4437 - accuracy: 0.7890 - val_loss: 0.5009 - val_accuracy: 0.7600\n",
            "Epoch 22/25\n",
            "125/125 [==============================] - 30s 239ms/step - loss: 0.4385 - accuracy: 0.7905 - val_loss: 0.4965 - val_accuracy: 0.7740\n",
            "Epoch 23/25\n",
            "125/125 [==============================] - 30s 239ms/step - loss: 0.4388 - accuracy: 0.7943 - val_loss: 0.4878 - val_accuracy: 0.7760\n",
            "Epoch 24/25\n",
            "125/125 [==============================] - 32s 255ms/step - loss: 0.4239 - accuracy: 0.7997 - val_loss: 0.5021 - val_accuracy: 0.7660\n",
            "Epoch 25/25\n",
            "125/125 [==============================] - 31s 245ms/step - loss: 0.4198 - accuracy: 0.8052 - val_loss: 0.5179 - val_accuracy: 0.7590\n"
          ]
        },
        {
          "output_type": "execute_result",
          "data": {
            "text/plain": [
              "<keras.callbacks.History at 0x7f0ecec3ad10>"
            ]
          },
          "metadata": {},
          "execution_count": 15
        }
      ]
    },
    {
      "cell_type": "code",
      "source": [
        "#making a single pediction\n",
        "import numpy as np\n",
        "from keras.preprocessing import image\n",
        "test_image= image.load_img('/content/drive/MyDrive/Image_Classification/single_prediction/cat_or_dog_1.jpg',target_size=(64, 64))\n",
        "test_image= image.img_to_array(test_image)\n",
        "test_image= np.expand_dims(test_image,axis=0)\n",
        "result= cnn.predict(test_image)\n",
        "training_set.class_indices\n",
        "if result[0][0]==1:\n",
        "  prediction = 'dog'\n",
        "else:\n",
        "  prediction = 'cat'"
      ],
      "metadata": {
        "id": "d7WvC6_71SPh"
      },
      "execution_count": 17,
      "outputs": []
    },
    {
      "cell_type": "code",
      "source": [
        "print(prediction)"
      ],
      "metadata": {
        "colab": {
          "base_uri": "https://localhost:8080/"
        },
        "id": "gzYPfpUg3vIF",
        "outputId": "ff91c3fe-957b-4b54-bb56-8a977d659e0b"
      },
      "execution_count": 18,
      "outputs": [
        {
          "output_type": "stream",
          "name": "stdout",
          "text": [
            "dog\n"
          ]
        }
      ]
    }
  ]
}